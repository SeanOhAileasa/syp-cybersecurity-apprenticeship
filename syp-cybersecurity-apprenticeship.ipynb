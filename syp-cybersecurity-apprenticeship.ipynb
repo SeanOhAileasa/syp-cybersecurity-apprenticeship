{
 "cells": [
  {
   "cell_type": "markdown",
   "id": "d4ee9e4b",
   "metadata": {},
   "source": [
    "***\n",
    "< [Home](https://github.com/SeanOhAileasa) | [README](https://github.com/SeanOhAileasa/syp-cybersecurity-apprenticeship/blob/main/README.md) >\n",
    "\n",
    "## Cybersecurity Apprenticeship (LMETB - AMTCE - Oiliuna)\n",
    "###### Topic: ``CompTIA Security+``\n",
    "***"
   ]
  },
  {
   "cell_type": "markdown",
   "id": "b82b07fb",
   "metadata": {},
   "source": [
    "<a id=\"top\"></a>\n",
    "Course material for the ``CompTIA Security+`` module of the ``ICT Associate Apprenticeship (Cybersecurity)`` programme."
   ]
  },
  {
   "cell_type": "markdown",
   "id": "e7228f57",
   "metadata": {},
   "source": [
    "***\n",
    "## Table of Contents: [ [TODAY](#topToday) ] &#x1F4CC; [ [Course Material - Videos](#videoSchedule) ]\n",
    "***"
   ]
  },
  {
   "cell_type": "markdown",
   "id": "730af0cd",
   "metadata": {},
   "source": [
    "<a id=\"newSchedule\"></a>\n",
    "### Schedule 10th October 2022 - 9th December 2022"
   ]
  },
  {
   "cell_type": "code",
   "execution_count": 1,
   "id": "f59ce767",
   "metadata": {},
   "outputs": [
    {
     "data": {
      "text/html": [
       "\n",
       "        <iframe\n",
       "            width=\"1000\"\n",
       "            height=\"700\"\n",
       "            src=\"./rc/0_CyberSecuritySchedule.pdf\"\n",
       "            frameborder=\"0\"\n",
       "            allowfullscreen\n",
       "            \n",
       "        ></iframe>\n",
       "        "
      ],
      "text/plain": [
       "<IPython.lib.display.IFrame at 0x1cb555c0820>"
      ]
     },
     "execution_count": 1,
     "metadata": {},
     "output_type": "execute_result"
    }
   ],
   "source": [
    "from IPython.display import IFrame, display\n",
    "IFrame(\"./rc/0_CyberSecuritySchedule.pdf\",width=1000,height=700)"
   ]
  },
  {
   "cell_type": "markdown",
   "id": "d524a506",
   "metadata": {},
   "source": [
    "<a id=\"videoSchedule\"></a>\n",
    "### CompTIA Security+ - Course Material - [ [IT Prov TV](https://www.itpro.tv/courses/security/security-sy0601/) ] - Videos"
   ]
  },
  {
   "cell_type": "markdown",
   "id": "2be79706",
   "metadata": {},
   "source": [
    "- [Social Engineering Techniques](#20221010) &#x2705;\n",
    "\n",
    "\n",
    "- [Malware](#20221010) &#x2705;\n",
    "\n",
    "\n",
    "- [Password Attacks - Types](#20221011) &#x2705;\n",
    "\n",
    "\n",
    "- [Password Attacks - Tools](#20221011) &#x2705;\n",
    "\n",
    "\n",
    "- [Application Attacks - Injections](#20221011) &#x2705;\n",
    "\n",
    "\n",
    "- [Application Attacks - XSS and XSRF](#20221011) &#x2705;\n",
    "\n",
    "\n",
    "- Application Attacks - System Resources \n",
    "\n",
    "\n",
    "- Application Attacks - Replay Attacks \n",
    "\n",
    "\n",
    "- Network Attacks - DNS Attacks \n",
    "\n",
    "\n",
    "- Network Attacks - Layer 2 Attacks \n",
    "\n",
    "\n",
    "- Network Attacks - DoS and DDoS \n",
    "\n",
    "\n",
    "- Network Attacks - MiTM and MiTB \n",
    "\n",
    "\n",
    "- Network Attacks - Wireless \n",
    "\n",
    "\n",
    "- Vulnerabilities \n",
    "\n",
    "\n",
    "- Threat Intelligence - OSINT \n",
    "\n",
    "\n",
    "- Threat Intelligence - Threat Maps and Feeds \n",
    "\n",
    "\n",
    "- Threat Intelligence Vulnerability Databases Feed \n",
    "\n",
    "\n",
    "- Threat Actors and Vectors \n",
    "\n",
    "\n",
    "- Cryptography Concepts \n",
    "\n",
    "\n",
    "- Encryption and Steganography \n",
    "\n",
    "\n",
    "- Hashing \n",
    "\n",
    "\n",
    "- Symmetric vs. Asymmetric Encryption \n",
    "\n",
    "\n",
    "- Certificates \n",
    "\n",
    "\n",
    "- IPSec \n",
    "\n",
    "\n",
    "- Authentication and Authorization \n",
    "\n",
    "\n",
    "- Authentication Methods \n",
    "\n",
    "\n",
    "- Additional Authentication Methods \n",
    "\n",
    "\n",
    "- Biometrics \n",
    "\n",
    "\n",
    "- Authentication Protocols - PAP and CHAP \n",
    "\n",
    "\n",
    "- Authentication Protocols - EAP and 802.1x \n",
    "\n",
    "\n",
    "- Authentication Protocols - RADIUS and TACACS \n",
    "\n",
    "\n",
    "- Authentication Protocols - Kerberos \n",
    "\n",
    "\n",
    "- Access Control Schemes \n",
    "\n",
    "\n",
    "- Account Management - Account Types \n",
    "\n",
    "\n",
    "- Account Management - Password Policies \n",
    "\n",
    "\n",
    "- Account Management - Account Policies"
   ]
  },
  {
   "cell_type": "markdown",
   "id": "4f052411",
   "metadata": {},
   "source": [
    "<hr width=50%;>"
   ]
  },
  {
   "cell_type": "markdown",
   "id": "40ec1d36",
   "metadata": {},
   "source": [
    "### [Monday 10th Oct 2022](#20221010) <br/><br/>\n",
    "\n",
    "- [Recording](#20221010a) <br/><br/> \n",
    "    - [Introduction to Security](#20221010a) <br/><br/> \n",
    "- [Video](#20221010b) <br/><br/> \n",
    "    - [Social Engineering Techniques](#20221010b) <br/><br/> \n",
    "- [Cybersecurity News](#20221010c) <br/><br/>\n",
    "    - [Glut of Fake LinkedIn Profiles Pits HR Against the Bots](#20221010c) <br/><br/>\n",
    "    - [Report: Big U.S. Banks Are Stiffing Account Takeover Victims](#20221010c) <br/><br/>\n",
    "- [Video](#20221010d) <br/><br/> \n",
    "    - [Malware](#20221010d) <br/><br/> \n",
    "- [News Article](#20221010e) <br/><br/> \n",
    "    - [‘Don’t pay cyber ransoms’](#20221010e) <br/><br/> \n",
    "- [``OWASP``](#20221010f) <br/><br/> \n",
    "    - [Top 10 - 2021](#20221010f)\n",
    "\n",
    "<a id=\"topToday\"></a>\n",
    "<hr width=50%;>"
   ]
  },
  {
   "cell_type": "markdown",
   "id": "64dee93b",
   "metadata": {},
   "source": [
    "### [Tuesday  11th Oct 2022](#20221011) <br/><br/>\n",
    "\n",
    "- [Videos](#20221011a) <br/><br/> \n",
    "    - [Password Attacks Types](#20221011a) <br/><br/> \n",
    "    - [Password Attacks Tools](#20221011a) <br/><br/>\n",
    "- [Task](#20221011b) <br/><br/> \n",
    "    - [Presentation](#20221011b) <br/><br/> \n",
    "        - Short/Concise Statements: <br/><br/> \n",
    "            - [Social Engineering](#20221011b) <br/><br/> \n",
    "            - [Malware](#20221011b) <br/><br/> \n",
    "            - [Password Attacks](#20221011b) <br/><br/> \n",
    "- [Recording](#20221011c) <br/><br/> \n",
    "    - [Tutor Lab Walkthrough](#20221011c) <br/><br/> \n",
    "        - [``nslookup``](#20221011c) <br/><br/> \n",
    "        - [``dig``](#20221011c) <br/><br/> \n",
    "        - [``whois``](#20221011c) <br/><br/> \n",
    "- [Video](#20221011d) <br/><br/> \n",
    "    - [Application Attacks - Injections](#20221011d) <br/><br/> \n",
    "- [Video](#20221011e) <br/><br/> \n",
    "    - [Application Attacks - XSS and XSRF](#20221011e)\n",
    "    \n",
    "<hr width=50%;>"
   ]
  },
  {
   "cell_type": "markdown",
   "id": "bf2b95e2",
   "metadata": {},
   "source": [
    "***\n",
    "## END"
   ]
  },
  {
   "cell_type": "markdown",
   "id": "c6936d96",
   "metadata": {},
   "source": [
    "< [Table of Contents](#top) | [References](#references) >\n",
    "<a id=\"20221010\"></a>\n",
    "***\n",
    "### Monday 10th Oct 2022\n",
    "***"
   ]
  },
  {
   "cell_type": "markdown",
   "id": "ce88ada4",
   "metadata": {},
   "source": [
    "< [Table of Contents](#top) | [References](#references) >\n",
    "<a id=\"20221010a\"></a>\n",
    "***\n",
    "###### Recording - Introduction to Security\n",
    "***"
   ]
  },
  {
   "cell_type": "code",
   "execution_count": 2,
   "id": "20e132ae",
   "metadata": {
    "scrolled": false
   },
   "outputs": [
    {
     "data": {
      "text/html": [
       "\n",
       "        <iframe\n",
       "            width=\"1000\"\n",
       "            height=\"600\"\n",
       "            src=\"./rc/CompTIASec+_Module1IntroductiontoSecurity.pdf\"\n",
       "            frameborder=\"0\"\n",
       "            allowfullscreen\n",
       "            \n",
       "        ></iframe>\n",
       "        "
      ],
      "text/plain": [
       "<IPython.lib.display.IFrame at 0x1cb555d4cd0>"
      ]
     },
     "execution_count": 2,
     "metadata": {},
     "output_type": "execute_result"
    }
   ],
   "source": [
    "from IPython.display import IFrame, display\n",
    "IFrame(\"./rc/CompTIASec+_Module1IntroductiontoSecurity.pdf\",width=1000,height=600)"
   ]
  },
  {
   "cell_type": "markdown",
   "id": "e6065639",
   "metadata": {},
   "source": [
    "< [Table of Contents](#top) | [References](#references) >\n",
    "<a id=\"20221010b\"></a>\n",
    "***\n",
    "###### Social Engineering Techniques\n",
    "***"
   ]
  },
  {
   "cell_type": "markdown",
   "id": "ffeb5546",
   "metadata": {},
   "source": [
    "> Discuss the methods used by bad actors to deceptively manipulate individuals into divulging confidential information through social engineering - compare and contrast different types of social engineering techniques like phishing, whaling, spam, spear phishing."
   ]
  },
  {
   "cell_type": "markdown",
   "id": "7fb3302c",
   "metadata": {},
   "source": [
    "[ [Social Engineering Techniques](https://www.itpro.tv/courses/security/security-sy0601/) ]"
   ]
  },
  {
   "cell_type": "markdown",
   "id": "9e847665",
   "metadata": {},
   "source": [
    "< [Table of Contents](#top) | [References](#references) >\n",
    "<a id=\"20221010c\"></a>\n",
    "***\n",
    "###### Cybersecurity News\n",
    "***"
   ]
  },
  {
   "cell_type": "markdown",
   "id": "5d1d52e8",
   "metadata": {},
   "source": [
    "[ [Glut of Fake LinkedIn Profiles Pits HR Against the Bots](https://krebsonsecurity.com/2022/10/glut-of-fake-linkedin-profiles-pits-hr-against-the-bots/) ]"
   ]
  },
  {
   "cell_type": "markdown",
   "id": "62373766",
   "metadata": {},
   "source": [
    "[ [Report: Big U.S. Banks Are Stiffing Account Takeover Victims](https://krebsonsecurity.com/2022/10/report-big-u-s-banks-are-stiffing-account-takeover-victims/) ]"
   ]
  },
  {
   "cell_type": "markdown",
   "id": "a2d6c4ac",
   "metadata": {},
   "source": [
    "< [Table of Contents](#top) | [References](#references) >\n",
    "<a id=\"20221010d\"></a>\n",
    "***\n",
    "###### Malware\n",
    "***"
   ]
  },
  {
   "cell_type": "markdown",
   "id": "e6019293",
   "metadata": {},
   "source": [
    "> Compare and contrast the most common malware types such as worms, trojans, rootkits, ransomware bots and more."
   ]
  },
  {
   "cell_type": "markdown",
   "id": "127ad150",
   "metadata": {},
   "source": [
    "[ [Malware](https://www.itpro.tv/courses/security/security-sy0601/) ]"
   ]
  },
  {
   "cell_type": "markdown",
   "id": "85a82789",
   "metadata": {},
   "source": [
    "< [Table of Contents](#top) | [References](#references) >\n",
    "<a id=\"20221010e\"></a>\n",
    "***\n",
    "###### News Article \n",
    "***"
   ]
  },
  {
   "cell_type": "markdown",
   "id": "a8c3e79c",
   "metadata": {},
   "source": [
    "[ [‘Don’t pay cyber ransoms’](https://www.independent.ie/business/irish/dont-pay-cyber-ransoms-garda-warning-as-its-revealed-a-third-of-smes-have-paid-criminal-groups-this-year-42016006.html) ]"
   ]
  },
  {
   "cell_type": "markdown",
   "id": "1f8ec612",
   "metadata": {},
   "source": [
    "< [Table of Contents](#top) | [References](#references) >\n",
    "<a id=\"20221010f\"></a>\n",
    "***\n",
    "###### OWASP\n",
    "***"
   ]
  },
  {
   "cell_type": "markdown",
   "id": "3507dcaa",
   "metadata": {},
   "source": [
    "[ [Top 10 - 2021](https://owasp.org/Top10/) ]"
   ]
  },
  {
   "cell_type": "markdown",
   "id": "63b7accf",
   "metadata": {},
   "source": [
    "< [Table of Contents](#top) | [References](#references) >\n",
    "<a id=\"20221011\"></a>\n",
    "***\n",
    "### Tuesday 11th Sept 2022\n",
    "***"
   ]
  },
  {
   "cell_type": "markdown",
   "id": "c3306e39",
   "metadata": {},
   "source": [
    "< [Table of Contents](#top) | [References](#references) >\n",
    "<a id=\"20221011a\"></a>\n",
    "***\n",
    "###### Password Attacks - Types | Tools\n",
    "***"
   ]
  },
  {
   "cell_type": "markdown",
   "id": "2bde9ca6",
   "metadata": {},
   "source": [
    "> Identify various types of password-based attacks such as spraying, brute force, dictionary attacks, and rainbow tables."
   ]
  },
  {
   "cell_type": "markdown",
   "id": "38cc76dd",
   "metadata": {},
   "source": [
    "[ [Password Attacks Types](https://www.itpro.tv/courses/security/security-sy0601/) ]"
   ]
  },
  {
   "cell_type": "markdown",
   "id": "f6ede87d",
   "metadata": {},
   "source": [
    "> Identify the tools used to accomplish password attacks like Burp Suite, CeWL, John the Ripper, hashcat and the typical process to perform these attacks."
   ]
  },
  {
   "cell_type": "markdown",
   "id": "00f36e17",
   "metadata": {},
   "source": [
    "[ [Password Attacks Tools](https://www.itpro.tv/courses/security/security-sy0601/) ]"
   ]
  },
  {
   "cell_type": "markdown",
   "id": "871057ba",
   "metadata": {},
   "source": [
    "< [Table of Contents](#top) | [References](#references) >\n",
    "<a id=\"20221011b\"></a>\n",
    "***\n",
    "###### Task - Create Presentation\n",
    "***"
   ]
  },
  {
   "cell_type": "markdown",
   "id": "5736b42c",
   "metadata": {},
   "source": [
    "Sought: Short/Concise Statements? \n",
    "\n",
    "- [Social Engineering](#20221011b)\n",
    "\n",
    "\n",
    "- [Malware](#20221011b) \n",
    "\n",
    "\n",
    "- [Password Attacks](#20221011b)"
   ]
  },
  {
   "cell_type": "markdown",
   "id": "934bb364",
   "metadata": {},
   "source": [
    "< [Table of Contents](#top) | [References](#references) >\n",
    "<a id=\"20221011c\"></a>\n",
    "***\n",
    "###### Recording - Tutor Lab Walkthrough - ``nslookup`` -``dig`` - ``whois``\n",
    "***"
   ]
  },
  {
   "cell_type": "markdown",
   "id": "e619ca17",
   "metadata": {},
   "source": [
    "> PenTest+ Lab - ``nslookup`` -``dig`` - ``whois``"
   ]
  },
  {
   "cell_type": "markdown",
   "id": "0efe18b8",
   "metadata": {},
   "source": [
    "- **Security+ Resources: ``Labs/Books`` Outstanding**"
   ]
  },
  {
   "cell_type": "markdown",
   "id": "a53648f7",
   "metadata": {},
   "source": [
    "< [Table of Contents](#top) | [References](#references) >\n",
    "<a id=\"20221011d\"></a>\n",
    "***\n",
    "###### Application Attacks - Injections\n",
    "***"
   ]
  },
  {
   "cell_type": "markdown",
   "id": "2681ed78",
   "metadata": {},
   "source": [
    "> Analyze a type of common injection-based attacks in order to identify and explain these attacks."
   ]
  },
  {
   "cell_type": "markdown",
   "id": "4ca57a55",
   "metadata": {},
   "source": [
    "[ [Application Attacks Injections](https://www.itpro.tv/courses/security/security-sy0601/) ]"
   ]
  },
  {
   "cell_type": "markdown",
   "id": "714d4c89",
   "metadata": {},
   "source": [
    "< [Table of Contents](#top) | [References](#references) >\n",
    "<a id=\"20221011e\"></a>\n",
    "***\n",
    "###### Application Attacks - XSS and XSRF\n",
    "***"
   ]
  },
  {
   "cell_type": "markdown",
   "id": "fd28cde9",
   "metadata": {},
   "source": [
    "> Analyze the characteristics of XSS and XSRF."
   ]
  },
  {
   "cell_type": "markdown",
   "id": "65fdfd11",
   "metadata": {},
   "source": [
    "[ [Characteristics of XSS and XSRF](https://www.itpro.tv/courses/security/security-sy0601/) ]"
   ]
  },
  {
   "cell_type": "markdown",
   "id": "e0e42d51",
   "metadata": {},
   "source": [
    "< [Table of Contents](#top) >\n",
    "<a id=\"references\"></a>\n",
    "***\n",
    "## References\n",
    "***"
   ]
  },
  {
   "cell_type": "markdown",
   "id": "ff68247c",
   "metadata": {},
   "source": [
    "Oiliuna, \"Cybersecurity Apprenticeship - ICT Associate Professional (ICTAP),\" LMETB / AMTCE, 10th October - 9th December 2022."
   ]
  },
  {
   "cell_type": "markdown",
   "id": "b33c372a",
   "metadata": {},
   "source": [
    "***\n",
    "## END"
   ]
  },
  {
   "cell_type": "markdown",
   "id": "e5961b4d",
   "metadata": {},
   "source": [
    "< [Table of Contents](#top) | [References](#references) >\n",
    "<a id=\"appendix\"></a>\n",
    "***\n",
    "## Appendix\n",
    "***"
   ]
  },
  {
   "cell_type": "markdown",
   "id": "00d82a82",
   "metadata": {},
   "source": [
    "***\n",
    "## END"
   ]
  },
  {
   "cell_type": "code",
   "execution_count": 3,
   "id": "5d0d93ed",
   "metadata": {},
   "outputs": [
    {
     "data": {
      "text/html": [
       "<style>.container { width:100% !important; }</style>"
      ],
      "text/plain": [
       "<IPython.core.display.HTML object>"
      ]
     },
     "metadata": {},
     "output_type": "display_data"
    }
   ],
   "source": [
    "from IPython.display import display,HTML\n",
    "display(HTML(\"<style>.container { width:100% !important; }</style>\"))"
   ]
  },
  {
   "cell_type": "markdown",
   "id": "899c1783",
   "metadata": {},
   "source": [
    "# END JUPYTER NOTEBOOK"
   ]
  }
 ],
 "metadata": {
  "kernelspec": {
   "display_name": "Python 3 (ipykernel)",
   "language": "python",
   "name": "python3"
  },
  "language_info": {
   "codemirror_mode": {
    "name": "ipython",
    "version": 3
   },
   "file_extension": ".py",
   "mimetype": "text/x-python",
   "name": "python",
   "nbconvert_exporter": "python",
   "pygments_lexer": "ipython3",
   "version": "3.9.12"
  }
 },
 "nbformat": 4,
 "nbformat_minor": 5
}
