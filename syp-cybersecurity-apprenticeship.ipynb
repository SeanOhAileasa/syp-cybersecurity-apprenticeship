{
 "cells": [
  {
   "cell_type": "markdown",
   "id": "d4ee9e4b",
   "metadata": {},
   "source": [
    "***\n",
    "< [Home](https://github.com/SeanOhAileasa) | [README](https://github.com/SeanOhAileasa/syp-cybersecurity-apprenticeship/blob/main/README.md) >\n",
    "\n",
    "## Cybersecurity Apprenticeship (LMETB - AMTCE - Oiliuna)\n",
    "###### Topic: ``CompTIA Security+``\n",
    "***"
   ]
  },
  {
   "cell_type": "markdown",
   "id": "b82b07fb",
   "metadata": {},
   "source": [
    "<a id=\"top\"></a>\n",
    "Course material for the ``CompTIA Security+`` module of the ``ICT Associate Apprenticeship (Cybersecurity)`` programme."
   ]
  },
  {
   "cell_type": "markdown",
   "id": "e7228f57",
   "metadata": {},
   "source": [
    "***\n",
    "## Table of Contents: [ [TODAY](#topToday) ] &#x1F4CC;\n",
    "***"
   ]
  },
  {
   "cell_type": "markdown",
   "id": "730af0cd",
   "metadata": {},
   "source": [
    "<a id=\"newSchedule\"></a>\n",
    "### Schedule 10th October 2022 - 9th December 2022"
   ]
  },
  {
   "cell_type": "code",
   "execution_count": 1,
   "id": "f59ce767",
   "metadata": {},
   "outputs": [
    {
     "data": {
      "text/html": [
       "\n",
       "        <iframe\n",
       "            width=\"1000\"\n",
       "            height=\"700\"\n",
       "            src=\"./rc/0_CyberSecuritySchedule.pdf\"\n",
       "            frameborder=\"0\"\n",
       "            allowfullscreen\n",
       "            \n",
       "        ></iframe>\n",
       "        "
      ],
      "text/plain": [
       "<IPython.lib.display.IFrame at 0x280a1f9a040>"
      ]
     },
     "execution_count": 1,
     "metadata": {},
     "output_type": "execute_result"
    }
   ],
   "source": [
    "from IPython.display import IFrame, display\n",
    "IFrame(\"./rc/0_CyberSecuritySchedule.pdf\",width=1000,height=700)"
   ]
  },
  {
   "cell_type": "markdown",
   "id": "4f052411",
   "metadata": {},
   "source": [
    "<a id=\"topToday\"></a>\n",
    "<hr width=50%;>"
   ]
  },
  {
   "attachments": {},
   "cell_type": "markdown",
   "id": "40ec1d36",
   "metadata": {},
   "source": [
    "### [Monday 10th Oct 2022](#20221010) <br/><br/>\n",
    "\n",
    "- [Recording](#20221010a) <br/><br/> \n",
    "    - [Introduction to Security](#20221010a) <br/><br/> \n",
    "- [Video](#20221010b) <br/><br/> \n",
    "    - [Social Engineering Techniques](#20221010b) <br/><br/> \n",
    "- [Cybersecurity News](#20221010c) <br/><br/>\n",
    "    - [Glut of Fake LinkedIn Profiles Pits HR Against the Bots](#20221010c) <br/><br/>\n",
    "    - [Report: Big U.S. Banks Are Stiffing Account Takeover Victims](#20221010c) <br/><br/>\n",
    "- [Video](#20221010d) <br/><br/> \n",
    "    - [Malware](#20221010d) <br/><br/> \n",
    "- [News Article](#20221010e) <br/><br/> \n",
    "    - [‘Don’t pay cyber ransoms’](#20221010e) <br/><br/> \n",
    "- [``OWASP``](#20221010f) <br/><br/> \n",
    "    - [Top 10 - 2021](#20221010f)\n",
    "    \n",
    "<hr width=50%;>"
   ]
  },
  {
   "cell_type": "markdown",
   "id": "bf2b95e2",
   "metadata": {},
   "source": [
    "***\n",
    "## END"
   ]
  },
  {
   "cell_type": "markdown",
   "id": "c6936d96",
   "metadata": {},
   "source": [
    "< [Table of Contents](#top) | [References](#references) >\n",
    "<a id=\"20221010\"></a>\n",
    "***\n",
    "### Monday 10th Oct 2022\n",
    "***"
   ]
  },
  {
   "cell_type": "markdown",
   "id": "ce88ada4",
   "metadata": {},
   "source": [
    "< [Table of Contents](#top) | [References](#references) >\n",
    "<a id=\"20221010a\"></a>\n",
    "***\n",
    "###### Recording - Introduction to Security\n",
    "***"
   ]
  },
  {
   "cell_type": "code",
   "execution_count": 2,
   "id": "20e132ae",
   "metadata": {
    "scrolled": false
   },
   "outputs": [
    {
     "data": {
      "text/html": [
       "\n",
       "        <iframe\n",
       "            width=\"1000\"\n",
       "            height=\"600\"\n",
       "            src=\"./rc/CompTIASec+_Module1IntroductiontoSecurity.pdf\"\n",
       "            frameborder=\"0\"\n",
       "            allowfullscreen\n",
       "            \n",
       "        ></iframe>\n",
       "        "
      ],
      "text/plain": [
       "<IPython.lib.display.IFrame at 0x280a1fa0820>"
      ]
     },
     "execution_count": 2,
     "metadata": {},
     "output_type": "execute_result"
    }
   ],
   "source": [
    "from IPython.display import IFrame, display\n",
    "IFrame(\"./rc/CompTIASec+_Module1IntroductiontoSecurity.pdf\",width=1000,height=600)"
   ]
  },
  {
   "cell_type": "markdown",
   "id": "e6065639",
   "metadata": {},
   "source": [
    "< [Table of Contents](#top) | [References](#references) >\n",
    "<a id=\"20221010b\"></a>\n",
    "***\n",
    "###### Social Engineering Techniques\n",
    "***"
   ]
  },
  {
   "cell_type": "markdown",
   "id": "ffeb5546",
   "metadata": {},
   "source": [
    "> Discuss the methods used by bad actors to deceptively manipulate individuals into divulging confidential information through social engineering - compare and contrast different types of social engineering techniques like phishing, whaling, spam, spear phishing."
   ]
  },
  {
   "cell_type": "markdown",
   "id": "7fb3302c",
   "metadata": {},
   "source": [
    "[ [Social Engineering Techniques](https://www.itpro.tv/courses/security/security-sy0601/) ]"
   ]
  },
  {
   "cell_type": "markdown",
   "id": "9e847665",
   "metadata": {},
   "source": [
    "< [Table of Contents](#top) | [References](#references) >\n",
    "<a id=\"20221010c\"></a>\n",
    "***\n",
    "###### Cybersecurity News\n",
    "***"
   ]
  },
  {
   "cell_type": "markdown",
   "id": "5d1d52e8",
   "metadata": {},
   "source": [
    "[ [Glut of Fake LinkedIn Profiles Pits HR Against the Bots](https://krebsonsecurity.com/2022/10/glut-of-fake-linkedin-profiles-pits-hr-against-the-bots/) ]"
   ]
  },
  {
   "cell_type": "markdown",
   "id": "62373766",
   "metadata": {},
   "source": [
    "[ [Report: Big U.S. Banks Are Stiffing Account Takeover Victims](https://krebsonsecurity.com/2022/10/report-big-u-s-banks-are-stiffing-account-takeover-victims/) ]"
   ]
  },
  {
   "cell_type": "markdown",
   "id": "a2d6c4ac",
   "metadata": {},
   "source": [
    "< [Table of Contents](#top) | [References](#references) >\n",
    "<a id=\"20221010d\"></a>\n",
    "***\n",
    "###### Malware\n",
    "***"
   ]
  },
  {
   "cell_type": "markdown",
   "id": "e6019293",
   "metadata": {},
   "source": [
    "> Compare and contrast the most common malware types such as worms, trojans, rootkits, ransomware bots and more."
   ]
  },
  {
   "cell_type": "markdown",
   "id": "127ad150",
   "metadata": {},
   "source": [
    "[ [Malware](https://www.itpro.tv/courses/security/security-sy0601/) ]"
   ]
  },
  {
   "cell_type": "markdown",
   "id": "85a82789",
   "metadata": {},
   "source": [
    "< [Table of Contents](#top) | [References](#references) >\n",
    "<a id=\"20221010e\"></a>\n",
    "***\n",
    "###### News Article \n",
    "***"
   ]
  },
  {
   "cell_type": "markdown",
   "id": "a8c3e79c",
   "metadata": {},
   "source": [
    "[ [‘Don’t pay cyber ransoms’](https://www.independent.ie/business/irish/dont-pay-cyber-ransoms-garda-warning-as-its-revealed-a-third-of-smes-have-paid-criminal-groups-this-year-42016006.html) ]"
   ]
  },
  {
   "cell_type": "markdown",
   "id": "1f8ec612",
   "metadata": {},
   "source": [
    "< [Table of Contents](#top) | [References](#references) >\n",
    "<a id=\"20221010f\"></a>\n",
    "***\n",
    "###### OWASP\n",
    "***"
   ]
  },
  {
   "cell_type": "markdown",
   "id": "3507dcaa",
   "metadata": {},
   "source": [
    "[ [Top 10 - 2021](https://owasp.org/Top10/) ]"
   ]
  },
  {
   "cell_type": "markdown",
   "id": "e0e42d51",
   "metadata": {},
   "source": [
    "< [Table of Contents](#top) >\n",
    "<a id=\"references\"></a>\n",
    "***\n",
    "## References\n",
    "***"
   ]
  },
  {
   "cell_type": "markdown",
   "id": "ff68247c",
   "metadata": {},
   "source": [
    "Oiliuna, \"Cybersecurity Apprenticeship - ICT Associate Professional (ICTAP),\" LMETB / AMTCE, 10th October - 9th December 2022."
   ]
  },
  {
   "cell_type": "markdown",
   "id": "b33c372a",
   "metadata": {},
   "source": [
    "***\n",
    "## END"
   ]
  },
  {
   "cell_type": "markdown",
   "id": "e5961b4d",
   "metadata": {},
   "source": [
    "< [Table of Contents](#top) | [References](#references) >\n",
    "<a id=\"appendix\"></a>\n",
    "***\n",
    "## Appendix\n",
    "***"
   ]
  },
  {
   "cell_type": "markdown",
   "id": "00d82a82",
   "metadata": {},
   "source": [
    "***\n",
    "## END"
   ]
  },
  {
   "cell_type": "code",
   "execution_count": 3,
   "id": "5d0d93ed",
   "metadata": {},
   "outputs": [
    {
     "data": {
      "text/html": [
       "<style>.container { width:100% !important; }</style>"
      ],
      "text/plain": [
       "<IPython.core.display.HTML object>"
      ]
     },
     "metadata": {},
     "output_type": "display_data"
    }
   ],
   "source": [
    "from IPython.display import display,HTML\n",
    "display(HTML(\"<style>.container { width:100% !important; }</style>\"))"
   ]
  },
  {
   "cell_type": "markdown",
   "id": "899c1783",
   "metadata": {},
   "source": [
    "# END JUPYTER NOTEBOOK"
   ]
  }
 ],
 "metadata": {
  "kernelspec": {
   "display_name": "Python 3 (ipykernel)",
   "language": "python",
   "name": "python3"
  },
  "language_info": {
   "codemirror_mode": {
    "name": "ipython",
    "version": 3
   },
   "file_extension": ".py",
   "mimetype": "text/x-python",
   "name": "python",
   "nbconvert_exporter": "python",
   "pygments_lexer": "ipython3",
   "version": "3.9.12"
  }
 },
 "nbformat": 4,
 "nbformat_minor": 5
}
